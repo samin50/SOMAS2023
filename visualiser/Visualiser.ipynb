{
 "cells": [
  {
   "cell_type": "code",
   "execution_count": null,
   "metadata": {},
   "outputs": [],
   "source": [
    "import json\n",
    "import copy\n",
    "import random\n",
    "import time\n",
    "\n",
    "#Functions for generating game states\n",
    "def generate_next_gameloop(current_state, current_round):\n",
    "    \"\"\"\n",
    "    Generates the next game loop in a game based on the current state.\n",
    "\n",
    "    :param current_state: A JSON object representing the current state of the game.\n",
    "    :return: A JSON object representing the next state of the game.\n",
    "    \"\"\"\n",
    "    # Deep copy the current state to avoid modifying the original state\n",
    "    new_state = copy.deepcopy(current_state)\n",
    "    # Increment the game loop number\n",
    "    new_state[f\"loop_{current_round + 1}\"] = copy.deepcopy(current_state[f\"loop_{current_round}\"])\n",
    "\n",
    "    # Process each bike and its agents\n",
    "    for bike in new_state[f\"loop_{current_round + 1}\"]['bikes'].values():\n",
    "        # Check if the awdi intersects this bike\n",
    "        awdi_intersects = new_state[f\"loop_{current_round + 1}\"]['awdi']['target'] == bike['id']\n",
    "        bike[\"position\"][\"x\"] = bike[\"position\"][\"x\"] + random.randint(-10, 10)\n",
    "        bike[\"position\"][\"y\"] = bike[\"position\"][\"y\"] + random.randint(-10, 10)\n",
    "        # Process each agent on the bike\n",
    "        for agent in bike['agents'].values():\n",
    "            # If the awdi intersects, remove all agents from the bike\n",
    "            if awdi_intersects:\n",
    "                agent['energy'] = 0  # Setting energy to 0 as they are eliminated\n",
    "\n",
    "            # Update agent's energy and check if they should be moved to bike 0\n",
    "            if agent['energy'] > 0:\n",
    "                agent['energy'] -= 1  # Decrease energy by 1 for this loop\n",
    "                if agent['energy'] == 0:\n",
    "                    # Move to bike 0\n",
    "                    agent['bikeID'] = '0x0'\n",
    "            else:\n",
    "                # Already on bike 0 or moved to bike 0\n",
    "                agent['bikeID'] = '0x0'\n",
    "\n",
    "    # Handle agents on bike 0 (this can be expanded with more logic if needed)\n",
    "    # Currently, it only ensures they are on bike 0\n",
    "    # update awdi position\n",
    "    new_state[f\"loop_{current_round + 1}\"]['awdi']['position']['x'] += random.randint(-10, 10)\n",
    "    new_state[f\"loop_{current_round + 1}\"]['awdi']['position']['y'] += random.randint(-10, 10)\n",
    "    return new_state\n",
    "\n",
    "def generate_initial_state():\n",
    "    \"\"\"\n",
    "    Generates an initial game state with a random number of bikes and agents.\n",
    "\n",
    "    :return: A JSON object representing the initial state of the game.\n",
    "    \"\"\"\n",
    "    # Define possible colors for agents\n",
    "    possible_colours = [\"Red\", \"Green\", \"Blue\", \"Yellow\", \"Orange\", \"Purple\", \"Pink\", \"Brown\", \"Gray\", \"White\"]\n",
    "\n",
    "    # Initialize the game state\n",
    "    initial_state = {\n",
    "        \"loop_0\": {\n",
    "            \"bikes\": {},\n",
    "            \"lootboxes\": {},  # This can be populated with lootbox data if needed\n",
    "            \"awdi\": {\n",
    "                \"target\": None,  # No target initially\n",
    "                \"position\": {\"x\": random.randint(-300, 300), \"y\": random.randint(-300, 300)},\n",
    "            }\n",
    "        },\n",
    "    }\n",
    "\n",
    "    # Randomly determine the number of bikes\n",
    "    num_bikes = random.randint(6, 10)\n",
    "\n",
    "    for bike_id in range(1, num_bikes + 1):\n",
    "        # Each bike will have a unique ID\n",
    "        bike_key = f\"bike_{bike_id}\"\n",
    "\n",
    "        # Randomly determine the number of agents on this bike\n",
    "        num_agents = random.randint(3, 9)\n",
    "        bike_agents = {}\n",
    "\n",
    "        for agent_id in range(1, num_agents + 1):\n",
    "            # Each agent will have a unique ID and randomly assigned color\n",
    "            agent_key = f\"agent_{bike_id}_{agent_id}\"\n",
    "            agent_colour = random.choice(possible_colours)\n",
    "\n",
    "            # Define the agent\n",
    "            bike_agents[agent_key] = {\n",
    "                \"id\": agent_key,\n",
    "                \"groupID\": random.randint(0, 8),\n",
    "                \"colour\": agent_colour,\n",
    "                \"points\": 0,\n",
    "                \"energy\": 100,  # Initial energy can be adjusted\n",
    "                # The rest of the agent's attributes are placeholders\n",
    "                \"bikes\": {},\n",
    "                \"forces\": {},\n",
    "                \"lootboxChoice\": None,\n",
    "                \"lootDistribution\": [],\n",
    "            }\n",
    "\n",
    "        # Add the bike and its agents to the game state\n",
    "        initial_state[\"loop_0\"][\"bikes\"][bike_key] = {\n",
    "            \"id\": bike_key,\n",
    "            \"position\": {\"x\": random.randint(-300, 300), \"y\": random.randint(-300, 300)},\n",
    "            \"agents\": bike_agents\n",
    "        }\n",
    "\n",
    "    # add lootboxes\n",
    "    num_lootboxes = random.randint(4, 12)\n",
    "    for lootbox_id in range(1, num_lootboxes + 1):\n",
    "        lootbox_key = f\"lootbox_{lootbox_id}\"\n",
    "        initial_state[\"loop_0\"][\"lootboxes\"][lootbox_key] = {\n",
    "            \"id\": lootbox_key,\n",
    "            \"position\": {\n",
    "                \"x\": random.randint(-500, 500),\n",
    "                \"y\": random.randint(-500, 500)\n",
    "            },\n",
    "            \"colour\": random.choice(possible_colours),\n",
    "        }\n",
    "    \n",
    "    # add awdi\n",
    "    initial_state[\"loop_0\"][\"awdi\"][\"id\"] = \"awdi\"\n",
    "    initial_state[\"loop_0\"][\"awdi\"][\"position\"] = {\n",
    "        \"x\": random.randint(-500, 500),\n",
    "        \"y\": random.randint(-500, 500)\n",
    "    }\n",
    "\n",
    "    return initial_state\n"
   ]
  },
  {
   "cell_type": "code",
   "execution_count": null,
   "metadata": {},
   "outputs": [],
   "source": [
    "# Generate the initial state and run the game for LOOPS number of loops\n",
    "initial_state = generate_initial_state()\n",
    "LOOPS = 10\n",
    "for i in range(LOOPS):\n",
    "    initial_state = generate_next_gameloop(initial_state, i)\n",
    "with open(f\"./visualiser/JSON/test2.json\", \"w\") as f:\n",
    "    json.dump(initial_state, f, indent=4)"
   ]
  },
  {
   "cell_type": "code",
   "execution_count": 3,
   "metadata": {},
   "outputs": [],
   "source": [
    "import json\n",
    "with open(\"../game_dump.json\", \"r\") as f:\n",
    "    data = json.load(f)"
   ]
  },
  {
   "cell_type": "code",
   "execution_count": 11,
   "metadata": {},
   "outputs": [
    {
     "name": "stdout",
     "output_type": "stream",
     "text": [
      "003d23f5-21d4-4020-b531-7bd45a3ec84a {'physical_state': {'position': {'x': 2.4648933753913864, 'y': 44.37418512009924}, 'acceleration': 0.8333333333333334, 'velocity': 0.8333333333333334, 'mass': 6}, 'agent_ids': ['5547e839-182a-47e3-bc09-c9c4f6d26b81', '43091250-05e2-4a71-8a48-b5a42e6b735d', '81806a33-8b65-477b-83b2-6d7f62b05e54', 'a6046693-99c8-48f1-9dd6-85ab3e4ccaee', '408ffe98-2065-4003-8bb5-905e6dffa7e4']}\n",
      "8646710b-6d98-42ea-901c-65b2310df013 {'physical_state': {'position': {'x': 15.751307647239058, 'y': 72.21107002228453}, 'acceleration': 0.5, 'velocity': 0.5, 'mass': 2}, 'agent_ids': ['cf0b6d21-1f3a-4315-8c8e-721d091c7bb5']}\n",
      "8d4c2a5f-e25c-45c1-b500-bc71a1017935 {'physical_state': {'position': {'x': 5.440868533186091, 'y': 7.161817473112905}, 'acceleration': 0, 'velocity': 0, 'mass': 1}, 'agent_ids': []}\n"
     ]
    }
   ],
   "source": [
    "for id, values in data[0][\"bikes\"].items():\n",
    "    print(id, values)"
   ]
  },
  {
   "cell_type": "code",
   "execution_count": 14,
   "metadata": {},
   "outputs": [
    {
     "name": "stdout",
     "output_type": "stream",
     "text": [
      "408ffe98-2065-4003-8bb5-905e6dffa7e4 {'forces': {'pedal': 1, 'brake': 0, 'turning': {'steer_bike': True, 'steering_force': 0.5570415807827523}}, 'energy_level': 0.9, 'points': 0, 'resource_allocation_params': {'need': 0, 'demand': 0, 'provision': 0, 'appropriation': 0}, 'colour': 'purple', 'location': {'x': 2.4648933753913864, 'y': 44.37418512009924}, 'on_bike': True, 'bike_id': '003d23f5-21d4-4020-b531-7bd45a3ec84a'}\n",
      "43091250-05e2-4a71-8a48-b5a42e6b735d {'forces': {'pedal': 1, 'brake': 0, 'turning': {'steer_bike': True, 'steering_force': 0.5570415807827523}}, 'energy_level': 0.9, 'points': 0, 'resource_allocation_params': {'need': 0, 'demand': 0, 'provision': 0, 'appropriation': 0}, 'colour': 'blue', 'location': {'x': 2.4648933753913864, 'y': 44.37418512009924}, 'on_bike': True, 'bike_id': '003d23f5-21d4-4020-b531-7bd45a3ec84a'}\n",
      "5547e839-182a-47e3-bc09-c9c4f6d26b81 {'forces': {'pedal': 1, 'brake': 0, 'turning': {'steer_bike': True, 'steering_force': 0.5570415807827523}}, 'energy_level': 0.9, 'points': 0, 'resource_allocation_params': {'need': 0, 'demand': 0, 'provision': 0, 'appropriation': 0}, 'colour': 'white', 'location': {'x': 2.4648933753913864, 'y': 44.37418512009924}, 'on_bike': True, 'bike_id': '003d23f5-21d4-4020-b531-7bd45a3ec84a'}\n",
      "81806a33-8b65-477b-83b2-6d7f62b05e54 {'forces': {'pedal': 1, 'brake': 0, 'turning': {'steer_bike': True, 'steering_force': 0.5570415807827523}}, 'energy_level': 0.9, 'points': 0, 'resource_allocation_params': {'need': 0, 'demand': 0, 'provision': 0, 'appropriation': 0}, 'colour': 'pink', 'location': {'x': 2.4648933753913864, 'y': 44.37418512009924}, 'on_bike': True, 'bike_id': '003d23f5-21d4-4020-b531-7bd45a3ec84a'}\n",
      "a6046693-99c8-48f1-9dd6-85ab3e4ccaee {'forces': {'pedal': 1, 'brake': 0, 'turning': {'steer_bike': True, 'steering_force': 0.5570415807827523}}, 'energy_level': 0.9, 'points': 0, 'resource_allocation_params': {'need': 0, 'demand': 0, 'provision': 0, 'appropriation': 0}, 'colour': 'pink', 'location': {'x': 2.4648933753913864, 'y': 44.37418512009924}, 'on_bike': True, 'bike_id': '003d23f5-21d4-4020-b531-7bd45a3ec84a'}\n",
      "cf0b6d21-1f3a-4315-8c8e-721d091c7bb5 {'forces': {'pedal': 1, 'brake': 0, 'turning': {'steer_bike': True, 'steering_force': 0.7495331697262559}}, 'energy_level': 0.9, 'points': 0, 'resource_allocation_params': {'need': 0, 'demand': 0, 'provision': 0, 'appropriation': 0}, 'colour': 'yellow', 'location': {'x': 15.751307647239058, 'y': 72.21107002228453}, 'on_bike': True, 'bike_id': '8646710b-6d98-42ea-901c-65b2310df013'}\n"
     ]
    }
   ],
   "source": [
    "for id, values in data[0][\"agents\"].items():\n",
    "    print(id, values)"
   ]
  },
  {
   "cell_type": "code",
   "execution_count": 4,
   "metadata": {},
   "outputs": [
    {
     "ename": "TypeError",
     "evalue": "string indices must be integers",
     "output_type": "error",
     "traceback": [
      "\u001b[1;31m---------------------------------------------------------------------------\u001b[0m",
      "\u001b[1;31mTypeError\u001b[0m                                 Traceback (most recent call last)",
      "\u001b[1;32mc:\\Users\\Shaheen\\OneDrive - Imperial College London\\Uni\\CW Labs\\Year 4\\SOMAS2023\\visualiser\\Visualiser.ipynb Cell 4\u001b[0m line \u001b[0;36m2\n\u001b[0;32m      <a href='vscode-notebook-cell:/c%3A/Users/Shaheen/OneDrive%20-%20Imperial%20College%20London/Uni/CW%20Labs/Year%204/SOMAS2023/visualiser/Visualiser.ipynb#W3sZmlsZQ%3D%3D?line=0'>1</a>\u001b[0m \u001b[39mfor\u001b[39;00m bike \u001b[39min\u001b[39;00m data[\u001b[39m0\u001b[39m][\u001b[39m\"\u001b[39m\u001b[39mbikes\u001b[39m\u001b[39m\"\u001b[39m]:\n\u001b[1;32m----> <a href='vscode-notebook-cell:/c%3A/Users/Shaheen/OneDrive%20-%20Imperial%20College%20London/Uni/CW%20Labs/Year%204/SOMAS2023/visualiser/Visualiser.ipynb#W3sZmlsZQ%3D%3D?line=1'>2</a>\u001b[0m     \u001b[39mprint\u001b[39m(bike[\u001b[39m\"\u001b[39;49m\u001b[39magents\u001b[39;49m\u001b[39m\"\u001b[39;49m][\u001b[39m0\u001b[39m])\n",
      "\u001b[1;31mTypeError\u001b[0m: string indices must be integers"
     ]
    }
   ],
   "source": [
    "for bike in data[0][\"bikes\"]:\n",
    "    print(bike[\"agents\"][0])"
   ]
  },
  {
   "cell_type": "code",
   "execution_count": 13,
   "metadata": {},
   "outputs": [
    {
     "name": "stdout",
     "output_type": "stream",
     "text": [
      "{'id': 'c3f60ba6-9917-4af2-854c-dddda481f1a5', 'physical_state': {'position': {'x': 379.2924977174136, 'y': 18.741400417727487}, 'acceleration': 0, 'velocity': 0, 'mass': 50}, 'agents': []}\n"
     ]
    }
   ],
   "source": [
    "print(bike)"
   ]
  },
  {
   "cell_type": "code",
   "execution_count": null,
   "metadata": {},
   "outputs": [],
   "source": [
    "# for audi in data[0][\"audi\":]\n",
    "print(data[0][\"audi\"])"
   ]
  },
  {
   "cell_type": "code",
   "execution_count": 14,
   "metadata": {},
   "outputs": [
    {
     "name": "stdout",
     "output_type": "stream",
     "text": [
      "{'id': 'ab3ae98d-cc77-49e7-a61a-12f1e192adbd', 'physical_state': {'position': {'x': 174.19206318464458, 'y': 401.2478960094951}, 'acceleration': 0, 'velocity': 0, 'mass': 0}, 'total_resources': 6.916819697775168, 'colour': 'orange'}\n"
     ]
    }
   ],
   "source": [
    "print(data[0][\"loot_boxes\"][0])"
   ]
  }
 ],
 "metadata": {
  "kernelspec": {
   "display_name": "base",
   "language": "python",
   "name": "python3"
  },
  "language_info": {
   "codemirror_mode": {
    "name": "ipython",
    "version": 3
   },
   "file_extension": ".py",
   "mimetype": "text/x-python",
   "name": "python",
   "nbconvert_exporter": "python",
   "pygments_lexer": "ipython3",
   "version": "3.10.9"
  }
 },
 "nbformat": 4,
 "nbformat_minor": 2
}
